{
 "cells": [
  {
   "cell_type": "code",
   "execution_count": null,
   "metadata": {},
   "outputs": [],
   "source": [
    "import numpy as np\n",
    "import matplotlib.pyplot as plt"
   ]
  },
  {
   "cell_type": "markdown",
   "metadata": {},
   "source": [
    "## Generate the Datasets"
   ]
  },
  {
   "cell_type": "code",
   "execution_count": null,
   "metadata": {},
   "outputs": [],
   "source": [
    "points = np.array([[0., 0., 1., 1.],\n",
    "                   [0., 1., 0., 1.]])\n",
    "\n",
    "xor_labels = np.array([-1, 1, 1, -1])\n",
    "or_labels = np.array([-1, 1, 1, 1])"
   ]
  },
  {
   "cell_type": "markdown",
   "metadata": {},
   "source": [
    "Choose dataset"
   ]
  },
  {
   "cell_type": "code",
   "execution_count": null,
   "metadata": {},
   "outputs": [],
   "source": [
    "labels = or_labels"
   ]
  },
  {
   "cell_type": "markdown",
   "metadata": {},
   "source": [
    "## Plot Dataset"
   ]
  },
  {
   "cell_type": "code",
   "execution_count": null,
   "metadata": {},
   "outputs": [],
   "source": [
    "label_colors = {-1: 'r', 1: 'g'}\n",
    "colors = list(map(lambda x: label_colors[x], labels))\n",
    "\n",
    "fig = plt.figure()\n",
    "ax = fig.add_subplot(1, 1, 1)\n",
    "ax.scatter(points[0,:], points[1,:], c=list(colors), s=60)\n",
    "ax.set_xlim(-0.5, 1.5)\n",
    "ax.set_ylim(-0.5, 1.5)\n",
    "ax.set_aspect(\"equal\")\n",
    "fig.tight_layout()"
   ]
  },
  {
   "cell_type": "markdown",
   "metadata": {},
   "source": [
    "## Create the Perceptron Classifier"
   ]
  },
  {
   "cell_type": "code",
   "execution_count": null,
   "metadata": {},
   "outputs": [],
   "source": [
    "weights = np.random.rand(3)\n",
    "eta = 0.2"
   ]
  },
  {
   "cell_type": "code",
   "execution_count": null,
   "metadata": {},
   "outputs": [],
   "source": [
    "def perceptron(data, label):\n",
    "    global weights, eta\n",
    "    data_ext = np.ones(3)\n",
    "    data_ext[:2] = data\n",
    "    prod = np.dot(weights, data_ext)\n",
    "    pred = np.sign(prod)\n",
    "    weights = weights + eta * (label - pred) * data_ext\n",
    "    \n",
    "def update_perceptron():\n",
    "    global weights\n",
    "    fig = plt.figure()\n",
    "    ax = fig.add_subplot(1, 1, 1)\n",
    "    ax.scatter(points[0,:], points[1,:], c=list(colors), s=60)\n",
    "    if np.abs(weights[1]) > 0.0001:\n",
    "        x_vals = np.arange(-0.5, 1.6, 0.1)\n",
    "        y_vals = -(x_vals * weights[0])/weights[1] - weights[2]\n",
    "        ax.plot(x_vals, y_vals, linewidth=2, color='b')\n",
    "    else:\n",
    "        ax.axvline(x=-(weights[2]/weights[1]), ymin=-0.5, ymax=1.5, linewidth=2, color=black)\n",
    "    ax.set_xlim(-0.5, 1.5)\n",
    "    ax.set_ylim(-0.5, 1.5)\n",
    "    ax.set_aspect(\"equal\")\n",
    "    fig.tight_layout()"
   ]
  },
  {
   "cell_type": "code",
   "execution_count": null,
   "metadata": {},
   "outputs": [],
   "source": [
    "i = 0"
   ]
  },
  {
   "cell_type": "code",
   "execution_count": null,
   "metadata": {},
   "outputs": [],
   "source": [
    "i = (i + 1) % 4\n",
    "perceptron(points[:,i], labels[i])\n",
    "print(\"Selected point {} -> {}\".format(points[:,i], labels[i]))\n",
    "print(\"Computed weights {}\".format(weights))\n",
    "print(\"Prediction {}\".format(np.sign(points[0,i]*weights[0] + points[1,i]*weights[1] + weights[2])))\n",
    "update_perceptron()"
   ]
  }
 ],
 "metadata": {
  "kernelspec": {
   "display_name": "Python 3",
   "language": "python",
   "name": "python3"
  },
  "language_info": {
   "codemirror_mode": {
    "name": "ipython",
    "version": 3
   },
   "file_extension": ".py",
   "mimetype": "text/x-python",
   "name": "python",
   "nbconvert_exporter": "python",
   "pygments_lexer": "ipython3",
   "version": "3.7.3"
  }
 },
 "nbformat": 4,
 "nbformat_minor": 2
}
